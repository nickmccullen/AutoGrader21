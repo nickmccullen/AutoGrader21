{
 "cells": [
  {
   "cell_type": "markdown",
   "metadata": {},
   "source": [
    "# Follow steps below to AutoGrade\n",
    "\n",
    "1. Download all submissions from moodle and upload the .zip file \n",
    "2. Download the grading worksheet from moodle and put it in the `student-work` directory\n",
    "3. List the zipfiles using the code below to cut and paste the correct name into Step 3.\n",
    "4. Extract the zipfile using the code supplied (put the correct name in)\n",
    "5. Enter the correct assignment number and apply the autograde script\n",
    "6. Write the gradebook file\n",
    "7. zip the feedback\n",
    "8. Download the zipped feedback files and Grades.csv to upload back to moodle\n",
    "    - may want to check and fails to ensure they were not erroneous and/or provide further feedback\n",
    "\n",
    "## 3: List all zipfiles"
   ]
  },
  {
   "cell_type": "code",
   "execution_count": null,
   "metadata": {},
   "outputs": [],
   "source": [
    "#use shell command to list directory\n",
    "ls = !ls #student-work\n",
    "\n",
    "#list all zip and csv files for use below\n",
    "[f for f in ls if '.zip' in f or '.csv' in f]"
   ]
  },
  {
   "cell_type": "markdown",
   "metadata": {},
   "source": [
    "## 4: Extract the students' work"
   ]
  },
  {
   "cell_type": "code",
   "execution_count": null,
   "metadata": {},
   "outputs": [],
   "source": [
    "import zipfile\n",
    "\n",
    "# put task (plugin) number here\n",
    "plugin_n = 7\n",
    "\n",
    "# cut and paste relevant 6-digit submission code zip file here\n",
    "code = 852696\n",
    "# extract the zipfile\n",
    "#extract=False\n",
    "extract=True\n",
    "maxscore = 2\n",
    "\n",
    "name_of_zip_file = f\"AR10366-Submission {plugin_n} ({maxscore}%)-{code}.zip\"\n",
    "gradebook_name = f\"Grades-AR10366-Submission {plugin_n} ({maxscore}%)-{code}.csv\"\n",
    "\n",
    "print(name_of_zip_file, gradebook_name)\n",
    "\n",
    "submission_name = name_of_zip_file.strip(\".zip\")\n",
    "if extract:\n",
    "    with zipfile.ZipFile(name_of_zip_file, 'r') as zip_ref:\n",
    "        zip_ref.extractall(submission_name)"
   ]
  },
  {
   "cell_type": "markdown",
   "metadata": {},
   "source": [
    "## 5: Perform the Autograding\n",
    "\n",
    "* make sure to put correct plugin number"
   ]
  },
  {
   "cell_type": "code",
   "execution_count": null,
   "metadata": {},
   "outputs": [],
   "source": [
    "import  imp\n",
    "#import AR10366_Bulk\n",
    "AR10366_Bulk = imp.load_source('AR10366_Bulk', 'AR10366_Bulk.py')\n",
    "\n",
    "tester = AR10366_Bulk.TestAR10366_Bulk()\n",
    "\n",
    "tester.plugin_number=plugin_n\n",
    "\n",
    "tester.gradebook_name=gradebook_name\n",
    "tester.submission_name=submission_name\n",
    "\n",
    "tester.maxpoints=maxscore\n",
    "tester.extract=True #extract all py files on first run\n",
    "tester.pretest=True\n",
    "tester.debugnumber=0 #set to zero to run all student files\n",
    "\n",
    "data = tester.run()"
   ]
  },
  {
   "cell_type": "markdown",
   "metadata": {},
   "source": [
    "## 6: Write the gradebook"
   ]
  },
  {
   "cell_type": "code",
   "execution_count": null,
   "metadata": {},
   "outputs": [],
   "source": [
    "import pandas as pd\n",
    "\n",
    "df = pd.read_csv(gradebook_name)\n",
    "\n",
    "data2=data\n",
    "# If you accidentailly used the de-anonymised version:\n",
    "#data2 = {\"Participant \"+n.split(\" \")[-1]:data[n] for n in data}\n",
    "\n",
    "\n",
    "for ID in df[\"Identifier\"]:\n",
    "    if ID in data2:\n",
    "        cand = df[\"Identifier\"] == ID\n",
    "        df.loc[cand,\"Grade\"] = data2[ID][0]\n",
    "        df.loc[cand,\"Feedback comments\"] = data2[ID][1]\n",
    "\n",
    "df.to_csv(f\"New_Grades-Task-{plugin_n}.csv\", index=False)\n",
    "\n"
   ]
  },
  {
   "cell_type": "markdown",
   "metadata": {},
   "source": [
    "## 7: zip the feedback files"
   ]
  },
  {
   "cell_type": "code",
   "execution_count": null,
   "metadata": {},
   "outputs": [],
   "source": [
    "import zipfile, os\n",
    "\n",
    "fbdir = f\"Feedback-Task-{plugin_n}\"\n",
    "fbfiles = os.listdir(fbdir)\n",
    "with zipfile.ZipFile(f'feedback-{plugin_n}.zip', 'w') as myzip:\n",
    "    for item in fbfiles:\n",
    "        myzip.write(f\"{fbdir}/{item}\")"
   ]
  },
  {
   "cell_type": "markdown",
   "metadata": {},
   "source": [
    "### For Task 6"
   ]
  },
  {
   "cell_type": "code",
   "execution_count": null,
   "metadata": {},
   "outputs": [],
   "source": [
    "import zipfile, os\n",
    "\n",
    "figdir = f\"Ex06Figs\"\n",
    "ffiles = os.listdir(figdir)\n",
    "with zipfile.ZipFile(f'figdir.zip', 'w') as myzip:\n",
    "    for item in ffiles:\n",
    "        myzip.write(f\"{figdir}/{item}\")\n",
    "loosefigs = [f for f in os.listdir('.') if f[-3:]==\"png\"]\n",
    "with zipfile.ZipFile(f'exfigs.zip', 'w') as myzip:\n",
    "    for item in loosefigs:\n",
    "        myzip.write(f\"{item}\")"
   ]
  },
  {
   "cell_type": "markdown",
   "metadata": {},
   "source": [
    "### MOSS Similarity checking\n"
   ]
  },
  {
   "cell_type": "code",
   "execution_count": null,
   "metadata": {},
   "outputs": [],
   "source": [
    "import mosspy\n",
    "\n",
    "userid = 307015968\n",
    "\n",
    "m = mosspy.Moss(userid, \"python\")\n",
    "\n",
    "m.addFilesByWildcard(f\"Extracted-Task-{plugin_n}/Participant_*.py\")\n",
    "\n",
    "# progress function optional, run on every file uploaded\n",
    "# result is submission URL\n",
    "url = m.send() #lambda file_path, display_name: print('*', end='', flush=True))\n",
    "print()\n",
    "\n",
    "\n",
    "print (\"Report Url: \" + url)\n",
    "\n",
    "# Save report file\n",
    "m.saveWebPage(url, f\"moss-report-Task-{plugin_n}.html\")\n",
    "\n",
    "# Download whole report locally including code diff links\n",
    "mosspy.download_report(url, f\"Reports/report-{plugin_n}\", connections=8, log_level=20) \n",
    "# log_level=logging.DEBUG (20 to disable)\n",
    "# on_read function run for every downloaded file"
   ]
  },
  {
   "cell_type": "markdown",
   "metadata": {},
   "source": [
    "### All in one tester (use for a quick rerun)"
   ]
  },
  {
   "cell_type": "code",
   "execution_count": null,
   "metadata": {},
   "outputs": [],
   "source": [
    "import  imp\n",
    "AR10366_Bulk = imp.load_source('AR10366_Bulk', 'AR10366_Bulk.py')\n",
    "\n",
    "# put task (plugin) number here\n",
    "plugin_n = 9\n",
    "code = 1027379\n",
    "maxscore = 3\n",
    "\n",
    "tester = AR10366_Bulk.TestAR10366_Bulk()\n",
    "\n",
    "tester.plugin_number=plugin_n\n",
    "tester.gradebook_name = f\"Grades-AR10366-Submission {plugin_n} ({maxscore}%)-{code}.csv\"\n",
    "tester.submission_name = f\"AR10366-Submission {plugin_n} ({maxscore}%)-{code}\"\n",
    "\n",
    "tester.maxpoints=3\n",
    "tester.extract=True #True #extract all py files on first run\n",
    "tester.pretest=True\n",
    "tester.debugnumber=0 #set to zero to run all student files\n",
    "\n",
    "data = tester.run()"
   ]
  }
 ],
 "metadata": {
  "kernelspec": {
   "display_name": "Python 3",
   "language": "python",
   "name": "python3"
  },
  "language_info": {
   "codemirror_mode": {
    "name": "ipython",
    "version": 3
   },
   "file_extension": ".py",
   "mimetype": "text/x-python",
   "name": "python",
   "nbconvert_exporter": "python",
   "pygments_lexer": "ipython3",
   "version": "3.7.10"
  }
 },
 "nbformat": 4,
 "nbformat_minor": 2
}
